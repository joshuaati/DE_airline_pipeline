{
 "cells": [
  {
   "cell_type": "code",
   "execution_count": 1,
   "metadata": {},
   "outputs": [],
   "source": [
    "import os\n",
    "import zipfile\n",
    "import requests\n",
    "from typing import Tuple\n",
    "from google.cloud import storage\n",
    "from datetime import timedelta\n",
    "from typing import List, Tuple\n",
    "from prefect import flow, task\n",
    "from prefect.tasks import task_input_hash, exponential_backoff"
   ]
  },
  {
   "cell_type": "code",
   "execution_count": 10,
   "metadata": {},
   "outputs": [],
   "source": [
    "def download_data(url: str, output_dir: str) -> str:\n",
    "\n",
    "    output_dir = os.path.abspath(output_dir)\n",
    "\n",
    "    os.makedirs(output_dir, exist_ok=True)\n",
    "    file_path = os.path.join(output_dir, os.path.basename(url))\n",
    "\n",
    "    response = requests.get(url)\n",
    "    with open(file_path, 'wb') as f:\n",
    "        f.write(response.content)\n",
    "\n",
    "    return file_path\n",
    "\n",
    "def extract_data(file_path: str, output_dir: str) -> Tuple[str, str]:\n",
    "\n",
    "    output_dir = os.path.abspath(output_dir)\n",
    "\n",
    "    os.makedirs(output_dir, exist_ok=True)\n",
    "    with zipfile.ZipFile(file_path, 'r') as zip_ref:\n",
    "        zip_ref.extractall(output_dir)\n",
    "\n",
    "    extracted_files = []\n",
    "    for root, _, files in os.walk(output_dir):\n",
    "        for file in files:\n",
    "            extracted_files.append(os.path.join(root, file))\n",
    "\n",
    "    return tuple(extracted_files)"
   ]
  },
  {
   "cell_type": "code",
   "execution_count": 11,
   "metadata": {},
   "outputs": [
    {
     "data": {
      "text/plain": [
       "('data/yellow.zip', 'data/nyc-tlc-data-yellow/README.md')"
      ]
     },
     "execution_count": 11,
     "metadata": {},
     "output_type": "execute_result"
    }
   ],
   "source": [
    "extract_data(download_data('https://github.com/DataTalksClub/nyc-tlc-data/archive/refs/tags/yellow.zip', 'data'), 'data')"
   ]
  },
  {
   "cell_type": "code",
   "execution_count": null,
   "metadata": {},
   "outputs": [],
   "source": []
  }
 ],
 "metadata": {
  "kernelspec": {
   "display_name": "Python 3 (ipykernel)",
   "language": "python",
   "name": "python3"
  },
  "language_info": {
   "codemirror_mode": {
    "name": "ipython",
    "version": 3
   },
   "file_extension": ".py",
   "mimetype": "text/x-python",
   "name": "python",
   "nbconvert_exporter": "python",
   "pygments_lexer": "ipython3",
   "version": "3.10.10"
  },
  "orig_nbformat": 4
 },
 "nbformat": 4,
 "nbformat_minor": 2
}
