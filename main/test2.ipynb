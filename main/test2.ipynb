{
 "cells": [
  {
   "cell_type": "code",
   "execution_count": 1,
   "metadata": {
    "vscode": {
     "languageId": "python"
    }
   },
   "outputs": [],
   "source": [
    "import os\n",
    "import zipfile\n",
    "import bz2\n",
    "import requests\n",
    "from typing import Tuple\n",
    "from google.cloud import storage\n",
    "from datetime import timedelta\n",
    "from typing import List, Tuple\n",
    "from prefect import flow, task\n",
    "from prefect.tasks import task_input_hash, exponential_backoff"
   ]
  },
  {
   "cell_type": "code",
   "execution_count": 2,
   "metadata": {
    "vscode": {
     "languageId": "python"
    }
   },
   "outputs": [],
   "source": [
    "def download_data(url: str, output_dir: str) -> str:\n",
    "\n",
    "    output_dir = os.path.abspath(output_dir)\n",
    "\n",
    "    os.makedirs(output_dir, exist_ok=True)\n",
    "    file_path = os.path.join(output_dir, os.path.basename(url))\n",
    "\n",
    "    response = requests.get(url)\n",
    "    with open(file_path, 'wb') as f:\n",
    "        f.write(response.content)\n",
    "\n",
    "    return file_path\n",
    "\n",
    "def extract_data(file_path: str, output_dir: str) -> Tuple[str, str]:\n",
    "\n",
    "    output_dir = os.path.abspath(output_dir)\n",
    "\n",
    "    os.makedirs(output_dir, exist_ok=True)\n",
    "    with zipfile.ZipFile(file_path, 'r') as zip_ref:\n",
    "        zip_ref.extractall(output_dir)\n",
    "\n",
    "    extracted_files = []\n",
    "    for root, _, files in os.walk(output_dir):\n",
    "        for file in files:\n",
    "            extracted_files.append(os.path.join(root, file))\n",
    "\n",
    "    return tuple(extracted_files)"
   ]
  },
  {
   "cell_type": "code",
   "execution_count": 14,
   "metadata": {
    "vscode": {
     "languageId": "python"
    }
   },
   "outputs": [
    {
     "data": {
      "text/plain": [
       "('/workspaces/DE_airline_on_time/data/yellow.zip',\n",
       " '/workspaces/DE_airline_on_time/data/nyc-tlc-data-yellow/README.md')"
      ]
     },
     "execution_count": 14,
     "metadata": {},
     "output_type": "execute_result"
    }
   ],
   "source": [
    "extract_data(download_data('https://github.com/DataTalksClub/nyc-tlc-data/archive/refs/tags/yellow.zip', 'data'), 'data')"
   ]
  },
  {
   "cell_type": "code",
   "execution_count": 84,
   "metadata": {
    "vscode": {
     "languageId": "python"
    }
   },
   "outputs": [
    {
     "name": "stdout",
     "output_type": "stream",
     "text": [
      "('data/1987.csv.gz', 'data/1988.csv.gz', 'data/1989.csv.gz', 'data/1990.csv.gz', 'data/1991.csv.gz', 'data/1992.csv.gz', 'data/1993.csv.gz', 'data/1994.csv.gz', 'data/1995.csv.gz', 'data/1996.csv.gz', 'data/1997.csv.gz', 'data/1998.csv.gz', 'data/1999.csv.gz', 'data/2000.csv.gz', 'data/2001.csv.gz', 'data/2002.csv.gz', 'data/2003.csv.gz', 'data/2004.csv.gz', 'data/2005.csv.gz', 'data/2006.csv.gz', 'data/2007.csv.gz', 'data/2008.csv.gz', 'data/airports.csv', 'data/carriers.csv', 'data/plane-data.csv', 'data/variable-descriptions.csv')\n"
     ]
    }
   ],
   "source": [
    "extracted_files = []\n",
    "for root, _, files in os.walk('data'):\n",
    "    for file in files:\n",
    "        extracted_files.append(os.path.join(root, file))\n",
    "\n",
    "print(tuple(extracted_files))\n",
    "extracted_files = tuple(extracted_files)"
   ]
  },
  {
   "cell_type": "code",
   "execution_count": 88,
   "metadata": {
    "vscode": {
     "languageId": "python"
    }
   },
   "outputs": [
    {
     "name": "stdout",
     "output_type": "stream",
     "text": [
      "data2/1987.csv.gz\n",
      "1987.csv.gz\n"
     ]
    }
   ],
   "source": [
    "filename = os.path.join('data2', os.path.basename('data/1987.csv.gz'))\n",
    "print(filename)\n",
    "print(os.path.basename('data/1987.csv.gz'))"
   ]
  },
  {
   "cell_type": "code",
   "execution_count": 79,
   "metadata": {
    "vscode": {
     "languageId": "python"
    }
   },
   "outputs": [],
   "source": [
    "import pandas as pd\n",
    "def compress_files(extracted_files: Tuple[str, ...], output_dir: str) -> Tuple[str, str]:\n",
    "    \"\"\"\n",
    "    This function compresses extracted CSV files in .bz2 format into .gz format and saves them in the specified output\n",
    "    directory. If the CSV file is encoded with 'latin_1', it will first be decoded before being compressed. Additionally,\n",
    "    any occurrences of the characters '-', 'ä', 'æ', and 'â' in the 'TailNum' column will be stripped of whitespace.\n",
    "\n",
    "    Parameters:\n",
    "    extracted_files (Tuple[str, ...]): A tuple of file paths to CSV files in .bz2 format to be compressed.\n",
    "    output_dir (str): The directory in which the compressed files will be saved.\n",
    "\n",
    "    Returns:\n",
    "    Tuple[str, str]: A tuple of file paths to the compressed files in the output directory.\n",
    "\n",
    "    \"\"\"\n",
    "    for file_path in extracted_files:\n",
    "        # Check if the file is in .bz2 format\n",
    "        if file_path.endswith('.bz2'):\n",
    "            compressed_file_path = file_path[:-4] + '.gz'\n",
    "            try:\n",
    "                # Try to read the file using the default encoding ('utf-8')\n",
    "                df = pd.read_csv(file_path)\n",
    "                # Compress the file and save it in the output directory\n",
    "                df.to_csv(compressed_file_path, index=False, compression='gzip')\n",
    "                # Remove the original file\n",
    "                os.remove(file_path)\n",
    "            except UnicodeDecodeError:\n",
    "                # If the default encoding fails, try reading the file using 'latin_1' encoding\n",
    "                df = pd.read_csv(file_path, encoding='latin_1')\n",
    "                df['TailNum'] = df['TailNum'].str.strip('-äæâ')\n",
    "                # Compress the file and save it in the output directory\n",
    "                df.to_csv(compressed_file_path, index=False, compression='gzip')\n",
    "                # Remove the original file\n",
    "                os.remove(file_path)\n",
    "    \n",
    "    # Collect all file paths in the output directory\n",
    "    all_files = []\n",
    "    for root, _, files in os.walk(output_dir):\n",
    "        for file in files:\n",
    "            all_files.append(os.path.join(root, file))\n",
    "    \n",
    "    # Return the file paths as a tuple\n",
    "    return tuple(all_files)"
   ]
  },
  {
   "cell_type": "code",
   "execution_count": 45,
   "metadata": {
    "vscode": {
     "languageId": "python"
    }
   },
   "outputs": [],
   "source": [
    "df = pd.read_csv('data/2001.csv.bz2', encoding='latin_1')\n",
    "df['TailNum'] = df['TailNum'].str.strip('-äæâ')"
   ]
  },
  {
   "cell_type": "code",
   "execution_count": null,
   "metadata": {
    "vscode": {
     "languageId": "python"
    }
   },
   "outputs": [],
   "source": [
    "df2 = pd.read_csv('data/2001.csv.bz2', encoding='latin_1')\n",
    "df2['TailNum'] = df2['TailNum'].str.strip('-äæâ')"
   ]
  },
  {
   "cell_type": "code",
   "execution_count": 72,
   "metadata": {
    "vscode": {
     "languageId": "python"
    }
   },
   "outputs": [
    {
     "data": {
      "text/plain": [
       "Index(['Unnamed: 0', 'Year', 'Month', 'DayofMonth', 'DayOfWeek', 'DepTime',\n",
       "       'CRSDepTime', 'ArrTime', 'CRSArrTime', 'UniqueCarrier', 'FlightNum',\n",
       "       'TailNum', 'ActualElapsedTime', 'CRSElapsedTime', 'AirTime', 'ArrDelay',\n",
       "       'DepDelay', 'Origin', 'Dest', 'Distance', 'TaxiIn', 'TaxiOut',\n",
       "       'Cancelled', 'CancellationCode', 'Diverted', 'CarrierDelay',\n",
       "       'WeatherDelay', 'NASDelay', 'SecurityDelay', 'LateAircraftDelay'],\n",
       "      dtype='object')"
      ]
     },
     "execution_count": 72,
     "metadata": {},
     "output_type": "execute_result"
    }
   ],
   "source": [
    "df2.columns"
   ]
  },
  {
   "cell_type": "code",
   "execution_count": 51,
   "metadata": {
    "vscode": {
     "languageId": "python"
    }
   },
   "outputs": [
    {
     "data": {
      "text/plain": [
       "äNKNOæ    176811\n",
       "-N823A      3982\n",
       "-N819A      3850\n",
       "-N810A      3755\n",
       "-N916D      3631\n",
       "           ...  \n",
       "N000A1         1\n",
       "N661äâ         1\n",
       "N662äâ         1\n",
       "N7BäA1         1\n",
       "N668äâ         1\n",
       "Name: TailNum, Length: 4561, dtype: int64"
      ]
     },
     "execution_count": 51,
     "metadata": {},
     "output_type": "execute_result"
    }
   ],
   "source": [
    "df2['TailNum'] = df2['TailNum'].value_counts()"
   ]
  },
  {
   "cell_type": "code",
   "execution_count": 16,
   "metadata": {
    "vscode": {
     "languageId": "python"
    }
   },
   "outputs": [],
   "source": [
    "import pandas as pd\n",
    "df3 = pd.read_csv('data/2008.csv.bz2')"
   ]
  },
  {
   "cell_type": "code",
   "execution_count": 17,
   "metadata": {
    "vscode": {
     "languageId": "python"
    }
   },
   "outputs": [
    {
     "name": "stdout",
     "output_type": "stream",
     "text": [
      "<class 'pandas.core.frame.DataFrame'>\n",
      "RangeIndex: 2389217 entries, 0 to 2389216\n",
      "Data columns (total 29 columns):\n",
      " #   Column             Dtype  \n",
      "---  ------             -----  \n",
      " 0   Year               int64  \n",
      " 1   Month              int64  \n",
      " 2   DayofMonth         int64  \n",
      " 3   DayOfWeek          int64  \n",
      " 4   DepTime            float64\n",
      " 5   CRSDepTime         int64  \n",
      " 6   ArrTime            float64\n",
      " 7   CRSArrTime         int64  \n",
      " 8   UniqueCarrier      object \n",
      " 9   FlightNum          int64  \n",
      " 10  TailNum            object \n",
      " 11  ActualElapsedTime  float64\n",
      " 12  CRSElapsedTime     float64\n",
      " 13  AirTime            float64\n",
      " 14  ArrDelay           float64\n",
      " 15  DepDelay           float64\n",
      " 16  Origin             object \n",
      " 17  Dest               object \n",
      " 18  Distance           int64  \n",
      " 19  TaxiIn             float64\n",
      " 20  TaxiOut            float64\n",
      " 21  Cancelled          int64  \n",
      " 22  CancellationCode   object \n",
      " 23  Diverted           int64  \n",
      " 24  CarrierDelay       float64\n",
      " 25  WeatherDelay       float64\n",
      " 26  NASDelay           float64\n",
      " 27  SecurityDelay      float64\n",
      " 28  LateAircraftDelay  float64\n",
      "dtypes: float64(14), int64(10), object(5)\n",
      "memory usage: 528.6+ MB\n"
     ]
    }
   ],
   "source": [
    "df3.info()"
   ]
  },
  {
   "cell_type": "code",
   "execution_count": 18,
   "metadata": {
    "vscode": {
     "languageId": "python"
    }
   },
   "outputs": [
    {
     "data": {
      "text/plain": [
       "600.0    5733\n",
       "555.0    5659\n",
       "700.0    5454\n",
       "655.0    5004\n",
       "556.0    4799\n",
       "         ... \n",
       "246.0       1\n",
       "322.0       1\n",
       "347.0       1\n",
       "312.0       1\n",
       "307.0       1\n",
       "Name: DepTime, Length: 1434, dtype: int64"
      ]
     },
     "execution_count": 18,
     "metadata": {},
     "output_type": "execute_result"
    }
   ],
   "source": [
    "df3['DepTime'].value_counts()"
   ]
  },
  {
   "cell_type": "code",
   "execution_count": 31,
   "metadata": {
    "vscode": {
     "languageId": "python"
    }
   },
   "outputs": [],
   "source": [
    "import numpy as np\n",
    "def convert_to_time(value):\n",
    "    try:\n",
    "        return pd.to_datetime(int(value), format='%H%M').time()\n",
    "    except (ValueError, TypeError):\n",
    "        return pd.NaT\n"
   ]
  },
  {
   "cell_type": "code",
   "execution_count": 32,
   "metadata": {
    "vscode": {
     "languageId": "python"
    }
   },
   "outputs": [
    {
     "ename": "KeyboardInterrupt",
     "evalue": "",
     "output_type": "error",
     "traceback": [
      "\u001b[0;31m---------------------------------------------------------------------------\u001b[0m",
      "\u001b[0;31mKeyboardInterrupt\u001b[0m                         Traceback (most recent call last)",
      "Cell \u001b[0;32mIn[32], line 1\u001b[0m\n\u001b[0;32m----> 1\u001b[0m df3[\u001b[38;5;124m'\u001b[39m\u001b[38;5;124mtime_col\u001b[39m\u001b[38;5;124m'\u001b[39m] \u001b[38;5;241m=\u001b[39m \u001b[43mdf3\u001b[49m\u001b[43m[\u001b[49m\u001b[38;5;124;43m'\u001b[39;49m\u001b[38;5;124;43mDepTime\u001b[39;49m\u001b[38;5;124;43m'\u001b[39;49m\u001b[43m]\u001b[49m\u001b[38;5;241;43m.\u001b[39;49m\u001b[43mapply\u001b[49m\u001b[43m(\u001b[49m\u001b[43mconvert_to_time\u001b[49m\u001b[43m)\u001b[49m\n",
      "File \u001b[0;32m/usr/local/lib/python3.10/site-packages/pandas/core/series.py:4771\u001b[0m, in \u001b[0;36mSeries.apply\u001b[0;34m(self, func, convert_dtype, args, **kwargs)\u001b[0m\n\u001b[1;32m   4661\u001b[0m \u001b[39mdef\u001b[39;00m \u001b[39mapply\u001b[39m(\n\u001b[1;32m   4662\u001b[0m     \u001b[39mself\u001b[39m,\n\u001b[1;32m   4663\u001b[0m     func: AggFuncType,\n\u001b[0;32m   (...)\u001b[0m\n\u001b[1;32m   4666\u001b[0m     \u001b[39m*\u001b[39m\u001b[39m*\u001b[39mkwargs,\n\u001b[1;32m   4667\u001b[0m ) \u001b[39m-\u001b[39m\u001b[39m>\u001b[39m DataFrame \u001b[39m|\u001b[39m Series:\n\u001b[1;32m   4668\u001b[0m \u001b[39m    \u001b[39m\u001b[39m\"\"\"\u001b[39;00m\n\u001b[1;32m   4669\u001b[0m \u001b[39m    Invoke function on values of Series.\u001b[39;00m\n\u001b[1;32m   4670\u001b[0m \n\u001b[0;32m   (...)\u001b[0m\n\u001b[1;32m   4769\u001b[0m \u001b[39m    dtype: float64\u001b[39;00m\n\u001b[1;32m   4770\u001b[0m \u001b[39m    \"\"\"\u001b[39;00m\n\u001b[0;32m-> 4771\u001b[0m     \u001b[39mreturn\u001b[39;00m SeriesApply(\u001b[39mself\u001b[39;49m, func, convert_dtype, args, kwargs)\u001b[39m.\u001b[39;49mapply()\n",
      "File \u001b[0;32m/usr/local/lib/python3.10/site-packages/pandas/core/apply.py:1123\u001b[0m, in \u001b[0;36mSeriesApply.apply\u001b[0;34m(self)\u001b[0m\n\u001b[1;32m   1120\u001b[0m     \u001b[39mreturn\u001b[39;00m \u001b[39mself\u001b[39m\u001b[39m.\u001b[39mapply_str()\n\u001b[1;32m   1122\u001b[0m \u001b[39m# self.f is Callable\u001b[39;00m\n\u001b[0;32m-> 1123\u001b[0m \u001b[39mreturn\u001b[39;00m \u001b[39mself\u001b[39;49m\u001b[39m.\u001b[39;49mapply_standard()\n",
      "File \u001b[0;32m/usr/local/lib/python3.10/site-packages/pandas/core/apply.py:1174\u001b[0m, in \u001b[0;36mSeriesApply.apply_standard\u001b[0;34m(self)\u001b[0m\n\u001b[1;32m   1172\u001b[0m     \u001b[39melse\u001b[39;00m:\n\u001b[1;32m   1173\u001b[0m         values \u001b[39m=\u001b[39m obj\u001b[39m.\u001b[39mastype(\u001b[39mobject\u001b[39m)\u001b[39m.\u001b[39m_values\n\u001b[0;32m-> 1174\u001b[0m         mapped \u001b[39m=\u001b[39m lib\u001b[39m.\u001b[39;49mmap_infer(\n\u001b[1;32m   1175\u001b[0m             values,\n\u001b[1;32m   1176\u001b[0m             f,\n\u001b[1;32m   1177\u001b[0m             convert\u001b[39m=\u001b[39;49m\u001b[39mself\u001b[39;49m\u001b[39m.\u001b[39;49mconvert_dtype,\n\u001b[1;32m   1178\u001b[0m         )\n\u001b[1;32m   1180\u001b[0m \u001b[39mif\u001b[39;00m \u001b[39mlen\u001b[39m(mapped) \u001b[39mand\u001b[39;00m \u001b[39misinstance\u001b[39m(mapped[\u001b[39m0\u001b[39m], ABCSeries):\n\u001b[1;32m   1181\u001b[0m     \u001b[39m# GH#43986 Need to do list(mapped) in order to get treated as nested\u001b[39;00m\n\u001b[1;32m   1182\u001b[0m     \u001b[39m#  See also GH#25959 regarding EA support\u001b[39;00m\n\u001b[1;32m   1183\u001b[0m     \u001b[39mreturn\u001b[39;00m obj\u001b[39m.\u001b[39m_constructor_expanddim(\u001b[39mlist\u001b[39m(mapped), index\u001b[39m=\u001b[39mobj\u001b[39m.\u001b[39mindex)\n",
      "File \u001b[0;32m/usr/local/lib/python3.10/site-packages/pandas/_libs/lib.pyx:2924\u001b[0m, in \u001b[0;36mpandas._libs.lib.map_infer\u001b[0;34m()\u001b[0m\n",
      "Cell \u001b[0;32mIn[31], line 4\u001b[0m, in \u001b[0;36mconvert_to_time\u001b[0;34m(value)\u001b[0m\n\u001b[1;32m      2\u001b[0m \u001b[38;5;28;01mdef\u001b[39;00m \u001b[38;5;21mconvert_to_time\u001b[39m(value):\n\u001b[1;32m      3\u001b[0m     \u001b[38;5;28;01mtry\u001b[39;00m:\n\u001b[0;32m----> 4\u001b[0m         \u001b[38;5;28;01mreturn\u001b[39;00m \u001b[43mpd\u001b[49m\u001b[38;5;241;43m.\u001b[39;49m\u001b[43mto_datetime\u001b[49m\u001b[43m(\u001b[49m\u001b[38;5;28;43mint\u001b[39;49m\u001b[43m(\u001b[49m\u001b[43mvalue\u001b[49m\u001b[43m)\u001b[49m\u001b[43m,\u001b[49m\u001b[43m \u001b[49m\u001b[38;5;28;43mformat\u001b[39;49m\u001b[38;5;241;43m=\u001b[39;49m\u001b[38;5;124;43m'\u001b[39;49m\u001b[38;5;124;43m%\u001b[39;49m\u001b[38;5;124;43mH\u001b[39;49m\u001b[38;5;124;43m%\u001b[39;49m\u001b[38;5;124;43mM\u001b[39;49m\u001b[38;5;124;43m'\u001b[39;49m\u001b[43m)\u001b[49m\u001b[38;5;241m.\u001b[39mtime()\n\u001b[1;32m      5\u001b[0m     \u001b[38;5;28;01mexcept\u001b[39;00m (\u001b[38;5;167;01mValueError\u001b[39;00m, \u001b[38;5;167;01mTypeError\u001b[39;00m):\n\u001b[1;32m      6\u001b[0m         \u001b[38;5;28;01mreturn\u001b[39;00m pd\u001b[38;5;241m.\u001b[39mNaT\n",
      "File \u001b[0;32m/usr/local/lib/python3.10/site-packages/pandas/core/tools/datetimes.py:1103\u001b[0m, in \u001b[0;36mto_datetime\u001b[0;34m(arg, errors, dayfirst, yearfirst, utc, format, exact, unit, infer_datetime_format, origin, cache)\u001b[0m\n\u001b[1;32m   1101\u001b[0m \u001b[39melse\u001b[39;00m:\n\u001b[1;32m   1102\u001b[0m     result \u001b[39m=\u001b[39m convert_listlike(np\u001b[39m.\u001b[39marray([arg]), \u001b[39mformat\u001b[39m)[\u001b[39m0\u001b[39m]\n\u001b[0;32m-> 1103\u001b[0m     \u001b[39mif\u001b[39;00m \u001b[39misinstance\u001b[39;49m(arg, \u001b[39mbool\u001b[39;49m) \u001b[39mand\u001b[39;00m \u001b[39misinstance\u001b[39m(result, np\u001b[39m.\u001b[39mbool_):\n\u001b[1;32m   1104\u001b[0m         result \u001b[39m=\u001b[39m \u001b[39mbool\u001b[39m(result)  \u001b[39m# TODO: avoid this kludge.\u001b[39;00m\n\u001b[1;32m   1106\u001b[0m \u001b[39m#  error: Incompatible return value type (got \"Union[Timestamp, NaTType,\u001b[39;00m\n\u001b[1;32m   1107\u001b[0m \u001b[39m# Series, Index]\", expected \"Union[DatetimeIndex, Series, float, str,\u001b[39;00m\n\u001b[1;32m   1108\u001b[0m \u001b[39m# NaTType, None]\")\u001b[39;00m\n",
      "\u001b[0;31mKeyboardInterrupt\u001b[0m: "
     ]
    }
   ],
   "source": [
    "df3['time_col'] = df3['DepTime'].apply(convert_to_time)"
   ]
  },
  {
   "cell_type": "code",
   "execution_count": 30,
   "metadata": {
    "vscode": {
     "languageId": "python"
    }
   },
   "outputs": [
    {
     "data": {
      "text/plain": [
       "Series([], Name: time_col, dtype: int64)"
      ]
     },
     "execution_count": 30,
     "metadata": {},
     "output_type": "execute_result"
    }
   ],
   "source": [
    "df3['time_col'].value_counts()"
   ]
  },
  {
   "cell_type": "code",
   "execution_count": 13,
   "metadata": {
    "vscode": {
     "languageId": "python"
    }
   },
   "outputs": [
    {
     "data": {
      "text/html": [
       "<div>\n",
       "<style scoped>\n",
       "    .dataframe tbody tr th:only-of-type {\n",
       "        vertical-align: middle;\n",
       "    }\n",
       "\n",
       "    .dataframe tbody tr th {\n",
       "        vertical-align: top;\n",
       "    }\n",
       "\n",
       "    .dataframe thead th {\n",
       "        text-align: right;\n",
       "    }\n",
       "</style>\n",
       "<table border=\"1\" class=\"dataframe\">\n",
       "  <thead>\n",
       "    <tr style=\"text-align: right;\">\n",
       "      <th></th>\n",
       "      <th>Year</th>\n",
       "      <th>Month</th>\n",
       "      <th>DayofMonth</th>\n",
       "      <th>DayOfWeek</th>\n",
       "      <th>DepTime</th>\n",
       "      <th>CRSDepTime</th>\n",
       "      <th>ArrTime</th>\n",
       "      <th>CRSArrTime</th>\n",
       "      <th>UniqueCarrier</th>\n",
       "      <th>FlightNum</th>\n",
       "      <th>...</th>\n",
       "      <th>TaxiIn</th>\n",
       "      <th>TaxiOut</th>\n",
       "      <th>Cancelled</th>\n",
       "      <th>CancellationCode</th>\n",
       "      <th>Diverted</th>\n",
       "      <th>CarrierDelay</th>\n",
       "      <th>WeatherDelay</th>\n",
       "      <th>NASDelay</th>\n",
       "      <th>SecurityDelay</th>\n",
       "      <th>LateAircraftDelay</th>\n",
       "    </tr>\n",
       "  </thead>\n",
       "  <tbody>\n",
       "    <tr>\n",
       "      <th>77380</th>\n",
       "      <td>2008</td>\n",
       "      <td>1</td>\n",
       "      <td>27</td>\n",
       "      <td>7</td>\n",
       "      <td>7.0</td>\n",
       "      <td>2030</td>\n",
       "      <td>207.0</td>\n",
       "      <td>2230</td>\n",
       "      <td>WN</td>\n",
       "      <td>273</td>\n",
       "      <td>...</td>\n",
       "      <td>3.0</td>\n",
       "      <td>10.0</td>\n",
       "      <td>0</td>\n",
       "      <td>NaN</td>\n",
       "      <td>0</td>\n",
       "      <td>0.0</td>\n",
       "      <td>0.0</td>\n",
       "      <td>0.0</td>\n",
       "      <td>0.0</td>\n",
       "      <td>217.0</td>\n",
       "    </tr>\n",
       "    <tr>\n",
       "      <th>143637</th>\n",
       "      <td>2008</td>\n",
       "      <td>1</td>\n",
       "      <td>21</td>\n",
       "      <td>1</td>\n",
       "      <td>7.0</td>\n",
       "      <td>2220</td>\n",
       "      <td>115.0</td>\n",
       "      <td>2341</td>\n",
       "      <td>YV</td>\n",
       "      <td>2681</td>\n",
       "      <td>...</td>\n",
       "      <td>12.0</td>\n",
       "      <td>11.0</td>\n",
       "      <td>0</td>\n",
       "      <td>NaN</td>\n",
       "      <td>0</td>\n",
       "      <td>94.0</td>\n",
       "      <td>0.0</td>\n",
       "      <td>0.0</td>\n",
       "      <td>0.0</td>\n",
       "      <td>0.0</td>\n",
       "    </tr>\n",
       "    <tr>\n",
       "      <th>202502</th>\n",
       "      <td>2008</td>\n",
       "      <td>1</td>\n",
       "      <td>21</td>\n",
       "      <td>1</td>\n",
       "      <td>7.0</td>\n",
       "      <td>2000</td>\n",
       "      <td>203.0</td>\n",
       "      <td>2142</td>\n",
       "      <td>OO</td>\n",
       "      <td>6703</td>\n",
       "      <td>...</td>\n",
       "      <td>5.0</td>\n",
       "      <td>35.0</td>\n",
       "      <td>0</td>\n",
       "      <td>NaN</td>\n",
       "      <td>0</td>\n",
       "      <td>0.0</td>\n",
       "      <td>261.0</td>\n",
       "      <td>0.0</td>\n",
       "      <td>0.0</td>\n",
       "      <td>0.0</td>\n",
       "    </tr>\n",
       "    <tr>\n",
       "      <th>221040</th>\n",
       "      <td>2008</td>\n",
       "      <td>1</td>\n",
       "      <td>2</td>\n",
       "      <td>3</td>\n",
       "      <td>7.0</td>\n",
       "      <td>2240</td>\n",
       "      <td>837.0</td>\n",
       "      <td>654</td>\n",
       "      <td>UA</td>\n",
       "      <td>98</td>\n",
       "      <td>...</td>\n",
       "      <td>13.0</td>\n",
       "      <td>16.0</td>\n",
       "      <td>0</td>\n",
       "      <td>NaN</td>\n",
       "      <td>0</td>\n",
       "      <td>0.0</td>\n",
       "      <td>0.0</td>\n",
       "      <td>20.0</td>\n",
       "      <td>0.0</td>\n",
       "      <td>83.0</td>\n",
       "    </tr>\n",
       "    <tr>\n",
       "      <th>233624</th>\n",
       "      <td>2008</td>\n",
       "      <td>1</td>\n",
       "      <td>4</td>\n",
       "      <td>5</td>\n",
       "      <td>7.0</td>\n",
       "      <td>2215</td>\n",
       "      <td>143.0</td>\n",
       "      <td>4</td>\n",
       "      <td>UA</td>\n",
       "      <td>522</td>\n",
       "      <td>...</td>\n",
       "      <td>4.0</td>\n",
       "      <td>17.0</td>\n",
       "      <td>0</td>\n",
       "      <td>NaN</td>\n",
       "      <td>0</td>\n",
       "      <td>90.0</td>\n",
       "      <td>0.0</td>\n",
       "      <td>0.0</td>\n",
       "      <td>0.0</td>\n",
       "      <td>9.0</td>\n",
       "    </tr>\n",
       "    <tr>\n",
       "      <th>...</th>\n",
       "      <td>...</td>\n",
       "      <td>...</td>\n",
       "      <td>...</td>\n",
       "      <td>...</td>\n",
       "      <td>...</td>\n",
       "      <td>...</td>\n",
       "      <td>...</td>\n",
       "      <td>...</td>\n",
       "      <td>...</td>\n",
       "      <td>...</td>\n",
       "      <td>...</td>\n",
       "      <td>...</td>\n",
       "      <td>...</td>\n",
       "      <td>...</td>\n",
       "      <td>...</td>\n",
       "      <td>...</td>\n",
       "      <td>...</td>\n",
       "      <td>...</td>\n",
       "      <td>...</td>\n",
       "      <td>...</td>\n",
       "      <td>...</td>\n",
       "    </tr>\n",
       "    <tr>\n",
       "      <th>2361525</th>\n",
       "      <td>2008</td>\n",
       "      <td>4</td>\n",
       "      <td>13</td>\n",
       "      <td>7</td>\n",
       "      <td>7.0</td>\n",
       "      <td>15</td>\n",
       "      <td>524.0</td>\n",
       "      <td>540</td>\n",
       "      <td>CO</td>\n",
       "      <td>1740</td>\n",
       "      <td>...</td>\n",
       "      <td>4.0</td>\n",
       "      <td>16.0</td>\n",
       "      <td>0</td>\n",
       "      <td>NaN</td>\n",
       "      <td>0</td>\n",
       "      <td>NaN</td>\n",
       "      <td>NaN</td>\n",
       "      <td>NaN</td>\n",
       "      <td>NaN</td>\n",
       "      <td>NaN</td>\n",
       "    </tr>\n",
       "    <tr>\n",
       "      <th>2363453</th>\n",
       "      <td>2008</td>\n",
       "      <td>4</td>\n",
       "      <td>14</td>\n",
       "      <td>1</td>\n",
       "      <td>7.0</td>\n",
       "      <td>15</td>\n",
       "      <td>520.0</td>\n",
       "      <td>542</td>\n",
       "      <td>CO</td>\n",
       "      <td>1740</td>\n",
       "      <td>...</td>\n",
       "      <td>5.0</td>\n",
       "      <td>7.0</td>\n",
       "      <td>0</td>\n",
       "      <td>NaN</td>\n",
       "      <td>0</td>\n",
       "      <td>NaN</td>\n",
       "      <td>NaN</td>\n",
       "      <td>NaN</td>\n",
       "      <td>NaN</td>\n",
       "      <td>NaN</td>\n",
       "    </tr>\n",
       "    <tr>\n",
       "      <th>2373382</th>\n",
       "      <td>2008</td>\n",
       "      <td>4</td>\n",
       "      <td>4</td>\n",
       "      <td>5</td>\n",
       "      <td>7.0</td>\n",
       "      <td>2125</td>\n",
       "      <td>132.0</td>\n",
       "      <td>2244</td>\n",
       "      <td>DL</td>\n",
       "      <td>1441</td>\n",
       "      <td>...</td>\n",
       "      <td>6.0</td>\n",
       "      <td>22.0</td>\n",
       "      <td>0</td>\n",
       "      <td>NaN</td>\n",
       "      <td>0</td>\n",
       "      <td>0.0</td>\n",
       "      <td>0.0</td>\n",
       "      <td>6.0</td>\n",
       "      <td>0.0</td>\n",
       "      <td>162.0</td>\n",
       "    </tr>\n",
       "    <tr>\n",
       "      <th>2379046</th>\n",
       "      <td>2008</td>\n",
       "      <td>4</td>\n",
       "      <td>9</td>\n",
       "      <td>3</td>\n",
       "      <td>7.0</td>\n",
       "      <td>2140</td>\n",
       "      <td>133.0</td>\n",
       "      <td>2324</td>\n",
       "      <td>DL</td>\n",
       "      <td>870</td>\n",
       "      <td>...</td>\n",
       "      <td>6.0</td>\n",
       "      <td>12.0</td>\n",
       "      <td>0</td>\n",
       "      <td>NaN</td>\n",
       "      <td>0</td>\n",
       "      <td>0.0</td>\n",
       "      <td>0.0</td>\n",
       "      <td>0.0</td>\n",
       "      <td>0.0</td>\n",
       "      <td>129.0</td>\n",
       "    </tr>\n",
       "    <tr>\n",
       "      <th>2387981</th>\n",
       "      <td>2008</td>\n",
       "      <td>4</td>\n",
       "      <td>16</td>\n",
       "      <td>3</td>\n",
       "      <td>7.0</td>\n",
       "      <td>2359</td>\n",
       "      <td>651.0</td>\n",
       "      <td>650</td>\n",
       "      <td>DL</td>\n",
       "      <td>1258</td>\n",
       "      <td>...</td>\n",
       "      <td>5.0</td>\n",
       "      <td>21.0</td>\n",
       "      <td>0</td>\n",
       "      <td>NaN</td>\n",
       "      <td>0</td>\n",
       "      <td>NaN</td>\n",
       "      <td>NaN</td>\n",
       "      <td>NaN</td>\n",
       "      <td>NaN</td>\n",
       "      <td>NaN</td>\n",
       "    </tr>\n",
       "  </tbody>\n",
       "</table>\n",
       "<p>135 rows × 29 columns</p>\n",
       "</div>"
      ],
      "text/plain": [
       "         Year  Month  DayofMonth  DayOfWeek  DepTime  CRSDepTime  ArrTime  \\\n",
       "77380    2008      1          27          7      7.0        2030    207.0   \n",
       "143637   2008      1          21          1      7.0        2220    115.0   \n",
       "202502   2008      1          21          1      7.0        2000    203.0   \n",
       "221040   2008      1           2          3      7.0        2240    837.0   \n",
       "233624   2008      1           4          5      7.0        2215    143.0   \n",
       "...       ...    ...         ...        ...      ...         ...      ...   \n",
       "2361525  2008      4          13          7      7.0          15    524.0   \n",
       "2363453  2008      4          14          1      7.0          15    520.0   \n",
       "2373382  2008      4           4          5      7.0        2125    132.0   \n",
       "2379046  2008      4           9          3      7.0        2140    133.0   \n",
       "2387981  2008      4          16          3      7.0        2359    651.0   \n",
       "\n",
       "         CRSArrTime UniqueCarrier  FlightNum  ... TaxiIn  TaxiOut  Cancelled  \\\n",
       "77380          2230            WN        273  ...    3.0     10.0          0   \n",
       "143637         2341            YV       2681  ...   12.0     11.0          0   \n",
       "202502         2142            OO       6703  ...    5.0     35.0          0   \n",
       "221040          654            UA         98  ...   13.0     16.0          0   \n",
       "233624            4            UA        522  ...    4.0     17.0          0   \n",
       "...             ...           ...        ...  ...    ...      ...        ...   \n",
       "2361525         540            CO       1740  ...    4.0     16.0          0   \n",
       "2363453         542            CO       1740  ...    5.0      7.0          0   \n",
       "2373382        2244            DL       1441  ...    6.0     22.0          0   \n",
       "2379046        2324            DL        870  ...    6.0     12.0          0   \n",
       "2387981         650            DL       1258  ...    5.0     21.0          0   \n",
       "\n",
       "         CancellationCode  Diverted  CarrierDelay WeatherDelay NASDelay  \\\n",
       "77380                 NaN         0           0.0          0.0      0.0   \n",
       "143637                NaN         0          94.0          0.0      0.0   \n",
       "202502                NaN         0           0.0        261.0      0.0   \n",
       "221040                NaN         0           0.0          0.0     20.0   \n",
       "233624                NaN         0          90.0          0.0      0.0   \n",
       "...                   ...       ...           ...          ...      ...   \n",
       "2361525               NaN         0           NaN          NaN      NaN   \n",
       "2363453               NaN         0           NaN          NaN      NaN   \n",
       "2373382               NaN         0           0.0          0.0      6.0   \n",
       "2379046               NaN         0           0.0          0.0      0.0   \n",
       "2387981               NaN         0           NaN          NaN      NaN   \n",
       "\n",
       "         SecurityDelay  LateAircraftDelay  \n",
       "77380              0.0              217.0  \n",
       "143637             0.0                0.0  \n",
       "202502             0.0                0.0  \n",
       "221040             0.0               83.0  \n",
       "233624             0.0                9.0  \n",
       "...                ...                ...  \n",
       "2361525            NaN                NaN  \n",
       "2363453            NaN                NaN  \n",
       "2373382            0.0              162.0  \n",
       "2379046            0.0              129.0  \n",
       "2387981            NaN                NaN  \n",
       "\n",
       "[135 rows x 29 columns]"
      ]
     },
     "execution_count": 13,
     "metadata": {},
     "output_type": "execute_result"
    }
   ],
   "source": [
    "df3[df3['DepTime']==7]"
   ]
  },
  {
   "cell_type": "code",
   "execution_count": 8,
   "metadata": {
    "vscode": {
     "languageId": "python"
    }
   },
   "outputs": [
    {
     "ename": "AttributeError",
     "evalue": "'DataFrame' object has no attribute 'to_datetime'",
     "output_type": "error",
     "traceback": [
      "\u001b[0;31m---------------------------------------------------------------------------\u001b[0m",
      "\u001b[0;31mAttributeError\u001b[0m                            Traceback (most recent call last)",
      "Cell \u001b[0;32mIn[8], line 1\u001b[0m\n\u001b[0;32m----> 1\u001b[0m \u001b[43mdf3\u001b[49m\u001b[38;5;241;43m.\u001b[39;49m\u001b[43mhead\u001b[49m\u001b[43m(\u001b[49m\u001b[43m)\u001b[49m\u001b[38;5;241;43m.\u001b[39;49m\u001b[43mto_datetime\u001b[49m(df3[\u001b[38;5;124m'\u001b[39m\u001b[38;5;124mDepTime\u001b[39m\u001b[38;5;124m'\u001b[39m], \u001b[38;5;28mformat\u001b[39m\u001b[38;5;241m=\u001b[39m\u001b[38;5;124m'\u001b[39m\u001b[38;5;124m%\u001b[39m\u001b[38;5;124mH\u001b[39m\u001b[38;5;124m%\u001b[39m\u001b[38;5;124mM\u001b[39m\u001b[38;5;124m'\u001b[39m)\u001b[38;5;241m.\u001b[39mdt\u001b[38;5;241m.\u001b[39mtime\n",
      "File \u001b[0;32m/usr/local/lib/python3.10/site-packages/pandas/core/generic.py:5902\u001b[0m, in \u001b[0;36mNDFrame.__getattr__\u001b[0;34m(self, name)\u001b[0m\n\u001b[1;32m   5895\u001b[0m \u001b[39mif\u001b[39;00m (\n\u001b[1;32m   5896\u001b[0m     name \u001b[39mnot\u001b[39;00m \u001b[39min\u001b[39;00m \u001b[39mself\u001b[39m\u001b[39m.\u001b[39m_internal_names_set\n\u001b[1;32m   5897\u001b[0m     \u001b[39mand\u001b[39;00m name \u001b[39mnot\u001b[39;00m \u001b[39min\u001b[39;00m \u001b[39mself\u001b[39m\u001b[39m.\u001b[39m_metadata\n\u001b[1;32m   5898\u001b[0m     \u001b[39mand\u001b[39;00m name \u001b[39mnot\u001b[39;00m \u001b[39min\u001b[39;00m \u001b[39mself\u001b[39m\u001b[39m.\u001b[39m_accessors\n\u001b[1;32m   5899\u001b[0m     \u001b[39mand\u001b[39;00m \u001b[39mself\u001b[39m\u001b[39m.\u001b[39m_info_axis\u001b[39m.\u001b[39m_can_hold_identifiers_and_holds_name(name)\n\u001b[1;32m   5900\u001b[0m ):\n\u001b[1;32m   5901\u001b[0m     \u001b[39mreturn\u001b[39;00m \u001b[39mself\u001b[39m[name]\n\u001b[0;32m-> 5902\u001b[0m \u001b[39mreturn\u001b[39;00m \u001b[39mobject\u001b[39;49m\u001b[39m.\u001b[39;49m\u001b[39m__getattribute__\u001b[39;49m(\u001b[39mself\u001b[39;49m, name)\n",
      "\u001b[0;31mAttributeError\u001b[0m: 'DataFrame' object has no attribute 'to_datetime'"
     ]
    }
   ],
   "source": [
    "df3.head"
   ]
  },
  {
   "cell_type": "code",
   "execution_count": null,
   "metadata": {
    "vscode": {
     "languageId": "python"
    }
   },
   "outputs": [],
   "source": []
  },
  {
   "cell_type": "code",
   "execution_count": null,
   "metadata": {
    "vscode": {
     "languageId": "python"
    }
   },
   "outputs": [],
   "source": [
    "import pandas as pd\n",
    "\n",
    "df = pd.read_csv('data/1987.csv.bz2')\n",
    "\n",
    "df.head()\n",
    "\n",
    "df.to_csv('data/1987.csv.gz', compression = \"gzip\")"
   ]
  },
  {
   "cell_type": "code",
   "execution_count": 13,
   "metadata": {
    "vscode": {
     "languageId": "python"
    }
   },
   "outputs": [],
   "source": [
    "def extract_individual_files(extracted_files: Tuple[str, ...]) -> Tuple[str, ...]:\n",
    "    new_extracted_files = []\n",
    "    for file_path in extracted_files:\n",
    "        if file_path.endswith('.bz2'):\n",
    "            with open(file_path, 'rb') as f:\n",
    "                content = f.read()\n",
    "            decompressed_content = bz2.decompress(content)\n",
    "            new_file_path = file_path[:-4]  # remove .bz2 extension\n",
    "            with open(new_file_path, 'wb') as f:\n",
    "                f.write(decompressed_content)\n",
    "            new_extracted_files.append(new_file_path)\n",
    "        else:\n",
    "            new_extracted_files.append(file_path)\n",
    "    print((new_extracted_files))\n",
    "    return (new_extracted_files)\n"
   ]
  },
  {
   "cell_type": "code",
   "execution_count": 16,
   "metadata": {
    "vscode": {
     "languageId": "python"
    }
   },
   "outputs": [
    {
     "name": "stdout",
     "output_type": "stream",
     "text": [
      "['data/1987.csv', 'data/1988.csv', 'data/1989.csv', 'data/1990.csv', 'data/1991.csv', 'data/1992.csv', 'data/1993.csv', 'data/1994.csv', 'data/1995.csv', 'data/1996.csv', 'data/1997.csv', 'data/1998.csv', 'data/1999.csv', 'data/2000.csv', 'data/2001.csv', 'data/2002.csv', 'data/2003.csv', 'data/2004.csv', 'data/2005.csv', 'data/2006.csv', 'data/2007.csv', 'data/2008.csv', 'data/airports.csv', 'data/carriers.csv', 'data/plane-data.csv', 'data/variable-descriptions.csv']\n"
     ]
    }
   ],
   "source": [
    "extracted_files = ('data/1987.csv.bz2', 'data/1988.csv.bz2', 'data/1989.csv.bz2', 'data/1990.csv.bz2', 'data/1991.csv.bz2', 'data/1992.csv.bz2', 'data/1993.csv.bz2', 'data/1994.csv.bz2', 'data/1995.csv.bz2', 'data/1996.csv.bz2', 'data/1997.csv.bz2', 'data/1998.csv.bz2', 'data/1999.csv.bz2', 'data/2000.csv.bz2', 'data/2001.csv.bz2', 'data/2002.csv.bz2', 'data/2003.csv.bz2', 'data/2004.csv.bz2', 'data/2005.csv.bz2', 'data/2006.csv.bz2', 'data/2007.csv.bz2', 'data/2008.csv.bz2', 'data/airports.csv', 'data/carriers.csv', 'data/plane-data.csv', 'data/variable-descriptions.csv')\n",
    "individual_files = extract_individual_files(extracted_files)\n",
    "# compress_file(individual_files)"
   ]
  },
  {
   "cell_type": "code",
   "execution_count": 27,
   "metadata": {
    "vscode": {
     "languageId": "python"
    }
   },
   "outputs": [
    {
     "ename": "KeyboardInterrupt",
     "evalue": "",
     "output_type": "error",
     "traceback": [
      "\u001b[0;31m---------------------------------------------------------------------------\u001b[0m",
      "\u001b[0;31mKeyboardInterrupt\u001b[0m                         Traceback (most recent call last)",
      "Cell \u001b[0;32mIn[27], line 1\u001b[0m\n\u001b[0;32m----> 1\u001b[0m \u001b[43mcompress_file\u001b[49m\u001b[43m(\u001b[49m\u001b[43m[\u001b[49m\u001b[38;5;124;43m'\u001b[39;49m\u001b[38;5;124;43mdata/1987.csv\u001b[39;49m\u001b[38;5;124;43m'\u001b[39;49m\u001b[43m,\u001b[49m\u001b[43m \u001b[49m\u001b[38;5;124;43m'\u001b[39;49m\u001b[38;5;124;43mdata/1988.csv\u001b[39;49m\u001b[38;5;124;43m'\u001b[39;49m\u001b[43m,\u001b[49m\u001b[43m \u001b[49m\u001b[38;5;124;43m'\u001b[39;49m\u001b[38;5;124;43mdata/1989.csv\u001b[39;49m\u001b[38;5;124;43m'\u001b[39;49m\u001b[43m,\u001b[49m\u001b[43m \u001b[49m\u001b[38;5;124;43m'\u001b[39;49m\u001b[38;5;124;43mdata/1990.csv\u001b[39;49m\u001b[38;5;124;43m'\u001b[39;49m\u001b[43m,\u001b[49m\u001b[43m \u001b[49m\u001b[38;5;124;43m'\u001b[39;49m\u001b[38;5;124;43mdata/1991.csv\u001b[39;49m\u001b[38;5;124;43m'\u001b[39;49m\u001b[43m,\u001b[49m\u001b[43m \u001b[49m\u001b[38;5;124;43m'\u001b[39;49m\u001b[38;5;124;43mdata/1992.csv\u001b[39;49m\u001b[38;5;124;43m'\u001b[39;49m\u001b[43m,\u001b[49m\u001b[43m \u001b[49m\u001b[38;5;124;43m'\u001b[39;49m\u001b[38;5;124;43mdata/1993.csv\u001b[39;49m\u001b[38;5;124;43m'\u001b[39;49m\u001b[43m,\u001b[49m\u001b[43m \u001b[49m\u001b[38;5;124;43m'\u001b[39;49m\u001b[38;5;124;43mdata/1994.csv\u001b[39;49m\u001b[38;5;124;43m'\u001b[39;49m\u001b[43m,\u001b[49m\u001b[43m \u001b[49m\u001b[38;5;124;43m'\u001b[39;49m\u001b[38;5;124;43mdata/1995.csv\u001b[39;49m\u001b[38;5;124;43m'\u001b[39;49m\u001b[43m,\u001b[49m\u001b[43m \u001b[49m\u001b[38;5;124;43m'\u001b[39;49m\u001b[38;5;124;43mdata/1996.csv\u001b[39;49m\u001b[38;5;124;43m'\u001b[39;49m\u001b[43m,\u001b[49m\u001b[43m \u001b[49m\u001b[38;5;124;43m'\u001b[39;49m\u001b[38;5;124;43mdata/1997.csv\u001b[39;49m\u001b[38;5;124;43m'\u001b[39;49m\u001b[43m,\u001b[49m\u001b[43m \u001b[49m\u001b[38;5;124;43m'\u001b[39;49m\u001b[38;5;124;43mdata/1998.csv\u001b[39;49m\u001b[38;5;124;43m'\u001b[39;49m\u001b[43m,\u001b[49m\u001b[43m \u001b[49m\u001b[38;5;124;43m'\u001b[39;49m\u001b[38;5;124;43mdata/1999.csv\u001b[39;49m\u001b[38;5;124;43m'\u001b[39;49m\u001b[43m,\u001b[49m\u001b[43m \u001b[49m\u001b[38;5;124;43m'\u001b[39;49m\u001b[38;5;124;43mdata/2000.csv\u001b[39;49m\u001b[38;5;124;43m'\u001b[39;49m\u001b[43m,\u001b[49m\u001b[43m \u001b[49m\u001b[38;5;124;43m'\u001b[39;49m\u001b[38;5;124;43mdata/2001.csv\u001b[39;49m\u001b[38;5;124;43m'\u001b[39;49m\u001b[43m,\u001b[49m\u001b[43m \u001b[49m\u001b[38;5;124;43m'\u001b[39;49m\u001b[38;5;124;43mdata/2002.csv\u001b[39;49m\u001b[38;5;124;43m'\u001b[39;49m\u001b[43m,\u001b[49m\u001b[43m \u001b[49m\u001b[38;5;124;43m'\u001b[39;49m\u001b[38;5;124;43mdata/2003.csv\u001b[39;49m\u001b[38;5;124;43m'\u001b[39;49m\u001b[43m,\u001b[49m\u001b[43m \u001b[49m\u001b[38;5;124;43m'\u001b[39;49m\u001b[38;5;124;43mdata/2004.csv\u001b[39;49m\u001b[38;5;124;43m'\u001b[39;49m\u001b[43m,\u001b[49m\u001b[43m \u001b[49m\u001b[38;5;124;43m'\u001b[39;49m\u001b[38;5;124;43mdata/2005.csv\u001b[39;49m\u001b[38;5;124;43m'\u001b[39;49m\u001b[43m,\u001b[49m\u001b[43m \u001b[49m\u001b[38;5;124;43m'\u001b[39;49m\u001b[38;5;124;43mdata/2006.csv\u001b[39;49m\u001b[38;5;124;43m'\u001b[39;49m\u001b[43m,\u001b[49m\u001b[43m \u001b[49m\u001b[38;5;124;43m'\u001b[39;49m\u001b[38;5;124;43mdata/2007.csv\u001b[39;49m\u001b[38;5;124;43m'\u001b[39;49m\u001b[43m,\u001b[49m\u001b[43m \u001b[49m\u001b[38;5;124;43m'\u001b[39;49m\u001b[38;5;124;43mdata/2008.csv\u001b[39;49m\u001b[38;5;124;43m'\u001b[39;49m\u001b[43m,\u001b[49m\u001b[43m \u001b[49m\u001b[38;5;124;43m'\u001b[39;49m\u001b[38;5;124;43mdata/airports.csv\u001b[39;49m\u001b[38;5;124;43m'\u001b[39;49m\u001b[43m,\u001b[49m\u001b[43m \u001b[49m\u001b[38;5;124;43m'\u001b[39;49m\u001b[38;5;124;43mdata/carriers.csv\u001b[39;49m\u001b[38;5;124;43m'\u001b[39;49m\u001b[43m,\u001b[49m\u001b[43m \u001b[49m\u001b[38;5;124;43m'\u001b[39;49m\u001b[38;5;124;43mdata/plane-data.csv\u001b[39;49m\u001b[38;5;124;43m'\u001b[39;49m\u001b[43m,\u001b[49m\u001b[43m \u001b[49m\u001b[38;5;124;43m'\u001b[39;49m\u001b[38;5;124;43mdata/variable-descriptions.csv\u001b[39;49m\u001b[38;5;124;43m'\u001b[39;49m\u001b[43m]\u001b[49m\u001b[43m)\u001b[49m\n",
      "Cell \u001b[0;32mIn[26], line 23\u001b[0m, in \u001b[0;36mcompress_file\u001b[0;34m(file_path)\u001b[0m\n\u001b[1;32m     20\u001b[0m \u001b[38;5;66;03m# Open the input and output files\u001b[39;00m\n\u001b[1;32m     21\u001b[0m \u001b[38;5;28;01mwith\u001b[39;00m \u001b[38;5;28mopen\u001b[39m(files, \u001b[38;5;124m'\u001b[39m\u001b[38;5;124mrb\u001b[39m\u001b[38;5;124m'\u001b[39m) \u001b[38;5;28;01mas\u001b[39;00m f_in, gzip\u001b[38;5;241m.\u001b[39mopen(compressed_path, \u001b[38;5;124m'\u001b[39m\u001b[38;5;124mwb\u001b[39m\u001b[38;5;124m'\u001b[39m) \u001b[38;5;28;01mas\u001b[39;00m f_out:\n\u001b[1;32m     22\u001b[0m     \u001b[38;5;66;03m# Copy the contents of the input file to the output file\u001b[39;00m\n\u001b[0;32m---> 23\u001b[0m     \u001b[43mf_out\u001b[49m\u001b[38;5;241;43m.\u001b[39;49m\u001b[43mwritelines\u001b[49m\u001b[43m(\u001b[49m\u001b[43mf_in\u001b[49m\u001b[43m)\u001b[49m\n\u001b[1;32m     25\u001b[0m \u001b[38;5;66;03m# Delete the original file\u001b[39;00m\n\u001b[1;32m     26\u001b[0m os\u001b[38;5;241m.\u001b[39mremove(files)\n",
      "File \u001b[0;32m/usr/local/lib/python3.10/gzip.py:289\u001b[0m, in \u001b[0;36mGzipFile.write\u001b[0;34m(self, data)\u001b[0m\n\u001b[1;32m    286\u001b[0m     length \u001b[39m=\u001b[39m data\u001b[39m.\u001b[39mnbytes\n\u001b[1;32m    288\u001b[0m \u001b[39mif\u001b[39;00m length \u001b[39m>\u001b[39m \u001b[39m0\u001b[39m:\n\u001b[0;32m--> 289\u001b[0m     \u001b[39mself\u001b[39m\u001b[39m.\u001b[39mfileobj\u001b[39m.\u001b[39mwrite(\u001b[39mself\u001b[39;49m\u001b[39m.\u001b[39;49mcompress\u001b[39m.\u001b[39;49mcompress(data))\n\u001b[1;32m    290\u001b[0m     \u001b[39mself\u001b[39m\u001b[39m.\u001b[39msize \u001b[39m+\u001b[39m\u001b[39m=\u001b[39m length\n\u001b[1;32m    291\u001b[0m     \u001b[39mself\u001b[39m\u001b[39m.\u001b[39mcrc \u001b[39m=\u001b[39m zlib\u001b[39m.\u001b[39mcrc32(data, \u001b[39mself\u001b[39m\u001b[39m.\u001b[39mcrc)\n",
      "\u001b[0;31mKeyboardInterrupt\u001b[0m: "
     ]
    }
   ],
   "source": [
    "compress_file(['data/1987.csv', 'data/1988.csv', 'data/1989.csv', 'data/1990.csv', 'data/1991.csv', 'data/1992.csv', 'data/1993.csv', 'data/1994.csv', 'data/1995.csv', 'data/1996.csv', 'data/1997.csv', 'data/1998.csv', 'data/1999.csv', 'data/2000.csv', 'data/2001.csv', 'data/2002.csv', 'data/2003.csv', 'data/2004.csv', 'data/2005.csv', 'data/2006.csv', 'data/2007.csv', 'data/2008.csv', 'data/airports.csv', 'data/carriers.csv', 'data/plane-data.csv', 'data/variable-descriptions.csv'])"
   ]
  },
  {
   "cell_type": "code",
   "execution_count": 28,
   "metadata": {
    "vscode": {
     "languageId": "python"
    }
   },
   "outputs": [],
   "source": [
    "import pandas as pd"
   ]
  },
  {
   "cell_type": "code",
   "execution_count": null,
   "metadata": {
    "vscode": {
     "languageId": "python"
    }
   },
   "outputs": [],
   "source": []
  }
 ],
 "metadata": {
  "kernelspec": {
   "display_name": "Python 3 (ipykernel)",
   "language": "python",
   "name": "python3"
  },
  "language_info": {
   "name": "",
   "version": ""
  },
  "orig_nbformat": 4,
  "vscode": {
   "interpreter": {
    "hash": "949777d72b0d2535278d3dc13498b2535136f6dfe0678499012e853ee9abcab1"
   }
  }
 },
 "nbformat": 4,
 "nbformat_minor": 2
}
